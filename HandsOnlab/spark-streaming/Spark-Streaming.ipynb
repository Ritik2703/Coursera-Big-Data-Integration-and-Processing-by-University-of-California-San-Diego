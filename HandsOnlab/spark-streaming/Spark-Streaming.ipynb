{
 "cells": [
  {
   "cell_type": "code",
   "execution_count": 2,
   "metadata": {
    "collapsed": true
   },
   "outputs": [],
   "source": [
    "# Example weather station data\n",
    "#\n",
    "# 1419408015\t0R1,Dn=059D,Dm=066D,Dx=080D,Sn=8.5M,Sm=9.5M,Sx=10.3M\n",
    "# 1419408016\t0R1,Dn=059D,Dm=065D,Dx=078D,Sn=8.5M,Sm=9.5M,Sx=10.3M\n",
    "# 1419408016\t0R2,Ta=13.9C,Ua=28.5P,Pa=889.9H\n",
    "# 1419408017\t0R1,Dn=059D,Dm=064D,Dx=075D,Sn=8.7M,Sm=9.6M,Sx=10.3M\n",
    "# 1419408018\t0R1,Dn=059D,Dm=064D,Dx=075D,Sn=8.9M,Sm=9.6M,Sx=10.3M\n",
    "# 1419408019\t0R1,Dn=059D,Dm=065D,Dx=075D,Sn=8.8M,Sm=9.5M,Sx=10.3M"
   ]
  },
  {
   "cell_type": "code",
   "execution_count": 3,
   "metadata": {
    "collapsed": true
   },
   "outputs": [],
   "source": [
    "# Key for measurements:\n",
    "#\n",
    "# Sn      Wind speed minimum m/s, km/h, mph, knots #,M, K, S, N\n",
    "# Sm      Wind speed average m/s, km/h, mph, knots #,M, K, S, N\n",
    "# Sx      Wind speed maximum m/s, km/h, mph, knots #,M, K, S, N\n",
    "# Dn      Wind direction minimum deg #, D\n",
    "# Dm      Wind direction average deg #, D\n",
    "# Dx      Wind direction maximum deg #, D\n",
    "# Pa      Air pressure hPa, Pa, bar, mmHg, inHg #, H, P, B, M, I\n",
    "# Ta      Air temperature °C, °F #, C, F\n",
    "# Tp      Internal temperature °C, °F #, C, F\n",
    "# Ua      Relative humidity %RH #, P\n",
    "# Rc      Rain accumulation mm, in #, M, I\n",
    "# Rd      Rain duration s #, S\n",
    "# Ri      Rain intensity mm/h, in/h #, M, I\n",
    "# Rp      Rain peak intensity mm/h, in/h #, M, I\n",
    "# Hc      Hail accumulation hits/cm2, hits/in2, hits #, M, I, H\n",
    "# Hd      Hail duration s #, S\n",
    "# Hi      Hail intensity hits/cm2h, hits/in2h, hits/ h #, M, I, H\n",
    "# Hp      Hail peak intensity hits/cm2h, hits/in2h, hits/ h #, M, I, H\n",
    "# Th      Heating temperature °C, °F #, C, F\n",
    "# Vh      Heating voltage V #, N, V, W, F2\n",
    "# Vs      Supply voltage V V\n",
    "# Vr      3.5 V ref. voltage V V"
   ]
  },
  {
   "cell_type": "code",
   "execution_count": 4,
   "metadata": {
    "collapsed": true
   },
   "outputs": [],
   "source": [
    "# Parse a line of weather station data, returning the average wind direction measurement \n",
    "#\n",
    "import re\n",
    "def parse(line):\n",
    "    match = re.search(\"Dm=(\\d+)\", line)\n",
    "    if match:\n",
    "        val = match.group(1)\n",
    "        return [int(val)]\n",
    "    return []"
   ]
  },
  {
   "cell_type": "code",
   "execution_count": null,
   "metadata": {
    "collapsed": true
   },
   "outputs": [],
   "source": []
  }
 ],
 "metadata": {
  "kernelspec": {
   "display_name": "Python 3",
   "language": "python",
   "name": "python3"
  },
  "language_info": {
   "codemirror_mode": {
    "name": "ipython",
    "version": 3
   },
   "file_extension": ".py",
   "mimetype": "text/x-python",
   "name": "python",
   "nbconvert_exporter": "python",
   "pygments_lexer": "ipython3",
   "version": "3.5.1"
  }
 },
 "nbformat": 4,
 "nbformat_minor": 0
}
