{
 "cells": [
  {
   "cell_type": "code",
   "execution_count": 1,
   "metadata": {
    "collapsed": false
   },
   "outputs": [],
   "source": [
    "# Parse a line of weather station data, returning the average wind direction measurement \n",
    "#\n",
    "import re\n",
    "def parse(line):\n",
    "    match = re.search(\"Dm=(\\d+)\", line)\n",
    "    if match:\n",
    "        val = match.group(1)\n",
    "        return [int(val)]\n",
    "    return []"
   ]
  },
  {
   "cell_type": "code",
   "execution_count": 2,
   "metadata": {
    "collapsed": true
   },
   "outputs": [],
   "source": [
    "from pyspark.streaming import StreamingContext\n",
    "ssc = StreamingContext(sc,1)"
   ]
  },
  {
   "cell_type": "code",
   "execution_count": 3,
   "metadata": {
    "collapsed": true
   },
   "outputs": [],
   "source": [
    "lines = ssc.socketTextStream(\"rtd.hpwren.ucsd.edu\", 12028)"
   ]
  },
  {
   "cell_type": "code",
   "execution_count": 4,
   "metadata": {
    "collapsed": false
   },
   "outputs": [],
   "source": [
    "vals = lines.flatMap(parse)"
   ]
  },
  {
   "cell_type": "code",
   "execution_count": 5,
   "metadata": {
    "collapsed": true
   },
   "outputs": [],
   "source": [
    "window = vals.window(10, 5)"
   ]
  },
  {
   "cell_type": "code",
   "execution_count": 6,
   "metadata": {
    "collapsed": false,
    "scrolled": true
   },
   "outputs": [],
   "source": [
    "def stats(rdd):\n",
    "    print(rdd.collect())\n",
    "    if rdd.count() > 0:\n",
    "        print(\"max = {}, min = {}\".format(rdd.max(), rdd.min()))"
   ]
  },
  {
   "cell_type": "code",
   "execution_count": 7,
   "metadata": {
    "collapsed": false
   },
   "outputs": [],
   "source": [
    "window.foreachRDD(lambda rdd: stats(rdd))"
   ]
  },
  {
   "cell_type": "code",
   "execution_count": 8,
   "metadata": {
    "collapsed": false,
    "scrolled": true
   },
   "outputs": [
    {
     "name": "stdout",
     "output_type": "stream",
     "text": [
      "[346, 333, 332]\n",
      "max = 346, min = 332\n",
      "[346, 333, 332, 313, 314, 316, 317, 317]\n",
      "max = 346, min = 313\n",
      "[313, 314, 316, 317, 317, 316, 316, 316, 316, 317]\n",
      "max = 317, min = 313\n",
      "[316, 316, 316, 316, 317, 316, 316, 316, 316, 317]\n",
      "max = 317, min = 316\n",
      "[316, 316, 316, 316, 317, 320, 321, 323, 325, 326]\n",
      "max = 326, min = 316\n",
      "[320, 321, 323, 325, 326, 309, 309, 308, 308, 307]\n",
      "max = 326, min = 307\n",
      "[309, 309, 308, 308, 307, 307, 307, 307, 307, 307, 307]\n",
      "max = 309, min = 307\n",
      "[307, 307, 307, 307, 307, 307, 305, 304, 304, 303, 302]\n",
      "max = 307, min = 302\n",
      "[305, 304, 304, 303, 302, 301, 315, 314, 312, 312]\n",
      "max = 315, min = 301\n",
      "[301, 315, 314, 312, 312, 312, 310, 308, 309, 307]\n",
      "max = 315, min = 301\n",
      "[312, 310, 308, 309, 307, 307, 308, 310, 293, 293]\n",
      "max = 312, min = 293\n",
      "[307, 308, 310, 293, 293, 294, 297, 299, 299, 301]\n",
      "max = 310, min = 293\n",
      "[294, 297, 299, 299, 301, 302, 303, 302, 319, 318]\n",
      "max = 319, min = 294\n",
      "[302, 303, 302, 319, 318, 318, 318, 319, 319, 319]\n",
      "max = 319, min = 302\n",
      "[318, 318, 319, 319, 319, 320, 321, 322, 322, 323]\n",
      "max = 323, min = 318\n",
      "[320, 321, 322, 322, 323, 323, 322, 323, 323, 323]\n",
      "max = 323, min = 320\n",
      "[323, 322, 323, 323, 323, 322, 322, 322, 322, 322]\n",
      "max = 323, min = 322\n",
      "[322, 322, 322, 322, 322, 322, 322, 322, 322, 322]\n",
      "max = 322, min = 322\n",
      "[322, 322, 322, 322, 322, 323, 324, 324, 324, 307, 307]\n",
      "max = 324, min = 307\n",
      "[323, 324, 324, 324, 307, 307, 308, 290, 273, 273, 273]\n",
      "max = 324, min = 273\n",
      "[308, 290, 273, 273, 273, 273, 273, 273, 273, 284]\n",
      "max = 308, min = 273\n",
      "[273, 273, 273, 273, 284, 211, 227, 244, 260, 277]\n",
      "max = 284, min = 211\n",
      "[211, 227, 244, 260, 277, 294, 316, 316, 316, 316]\n",
      "max = 316, min = 211\n",
      "[294, 316, 316, 316, 316, 316, 317, 316, 317, 319]\n",
      "max = 319, min = 294\n",
      "[316, 317, 316, 317, 319, 318, 318, 302, 301, 302]\n",
      "max = 319, min = 301\n",
      "[318, 318, 302, 301, 302, 302, 302, 302, 303, 303]\n",
      "max = 318, min = 301\n",
      "[302, 302, 302, 303, 303, 286, 280, 280, 264, 264]\n",
      "max = 303, min = 264\n",
      "[286, 280, 280, 264, 264, 247, 231, 214, 197, 179]\n",
      "max = 286, min = 179\n",
      "[247, 231, 214, 197, 179, 179, 167, 168, 168, 150]\n",
      "max = 247, min = 150\n",
      "[179, 167, 168, 168, 150, 150, 168, 185, 201, 218]\n",
      "max = 218, min = 150\n",
      "[150, 168, 185, 201, 218, 236, 254, 271, 271, 289, 306]\n",
      "max = 306, min = 150\n",
      "[236, 254, 271, 271, 289, 306, 323, 322, 323, 324, 325]\n",
      "max = 325, min = 236\n",
      "[323, 322, 323, 324, 325, 325, 325, 307, 301, 302]\n",
      "max = 325, min = 301\n",
      "[325, 325, 307, 301, 302, 302, 303, 302, 302, 302]\n",
      "max = 325, min = 301\n",
      "[302, 303, 302, 302, 302, 301, 301, 318, 323, 322]\n",
      "max = 323, min = 301\n",
      "[301, 301, 318, 323, 322, 320, 319, 318, 316, 315]\n",
      "max = 323, min = 301\n",
      "[320, 319, 318, 316, 315, 313, 312, 311, 311, 312]\n",
      "max = 320, min = 311\n",
      "[313, 312, 311, 311, 312, 313, 315, 316, 318, 302]\n",
      "max = 318, min = 302\n",
      "[313, 315, 316, 318, 302, 305, 306, 307, 308, 308]\n",
      "max = 318, min = 302\n",
      "[305, 306, 307, 308, 308, 309, 309, 309, 308, 326]\n",
      "max = 326, min = 305\n",
      "[309, 309, 309, 308, 326, 308, 291, 273, 285, 297]\n",
      "max = 326, min = 273\n",
      "[308, 291, 273, 285, 297, 280, 262, 172, 172, 172]\n",
      "max = 308, min = 172\n",
      "[280, 262, 172, 172, 172, 172, 172, 172, 172, 144, 150]\n",
      "max = 280, min = 144\n"
     ]
    }
   ],
   "source": [
    "ssc.start()"
   ]
  },
  {
   "cell_type": "code",
   "execution_count": 9,
   "metadata": {
    "collapsed": false
   },
   "outputs": [],
   "source": [
    "ssc.stop()"
   ]
  },
  {
   "cell_type": "code",
   "execution_count": null,
   "metadata": {
    "collapsed": true
   },
   "outputs": [],
   "source": []
  }
 ],
 "metadata": {
  "kernelspec": {
   "display_name": "Python 3",
   "language": "python",
   "name": "python3"
  },
  "language_info": {
   "codemirror_mode": {
    "name": "ipython",
    "version": 3
   },
   "file_extension": ".py",
   "mimetype": "text/x-python",
   "name": "python",
   "nbconvert_exporter": "python",
   "pygments_lexer": "ipython3",
   "version": "3.5.1"
  }
 },
 "nbformat": 4,
 "nbformat_minor": 0
}
